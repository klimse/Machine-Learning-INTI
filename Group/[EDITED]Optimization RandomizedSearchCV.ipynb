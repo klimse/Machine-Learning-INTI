{
 "cells": [
  {
   "cell_type": "code",
   "execution_count": 1,
   "id": "cc66e969",
   "metadata": {},
   "outputs": [],
   "source": [
    "import pandas as pd\n",
    "import numpy as np\n",
    "from sklearn.ensemble import RandomForestClassifier"
   ]
  },
  {
   "cell_type": "code",
   "execution_count": 2,
   "id": "aa7365d4",
   "metadata": {},
   "outputs": [],
   "source": [
    "df = pd.read_csv(r'X:\\Downloads\\PRG4206 Machine Learning\\Group\\depress.csv')"
   ]
  },
  {
   "cell_type": "code",
   "execution_count": 3,
   "id": "a9d76bb7",
   "metadata": {
    "scrolled": true
   },
   "outputs": [
    {
     "data": {
      "text/html": [
       "<div>\n",
       "<style scoped>\n",
       "    .dataframe tbody tr th:only-of-type {\n",
       "        vertical-align: middle;\n",
       "    }\n",
       "\n",
       "    .dataframe tbody tr th {\n",
       "        vertical-align: top;\n",
       "    }\n",
       "\n",
       "    .dataframe thead th {\n",
       "        text-align: right;\n",
       "    }\n",
       "</style>\n",
       "<table border=\"1\" class=\"dataframe\">\n",
       "  <thead>\n",
       "    <tr style=\"text-align: right;\">\n",
       "      <th></th>\n",
       "      <th>Survey_id</th>\n",
       "      <th>Ville_id</th>\n",
       "      <th>sex</th>\n",
       "      <th>Age</th>\n",
       "      <th>Married</th>\n",
       "      <th>Number_children</th>\n",
       "      <th>education_level</th>\n",
       "      <th>total_members</th>\n",
       "      <th>gained_asset</th>\n",
       "      <th>durable_asset</th>\n",
       "      <th>...</th>\n",
       "      <th>incoming_salary</th>\n",
       "      <th>incoming_own_farm</th>\n",
       "      <th>incoming_business</th>\n",
       "      <th>incoming_no_business</th>\n",
       "      <th>incoming_agricultural</th>\n",
       "      <th>farm_expenses</th>\n",
       "      <th>labor_primary</th>\n",
       "      <th>lasting_investment</th>\n",
       "      <th>no_lasting_investmen</th>\n",
       "      <th>depressed</th>\n",
       "    </tr>\n",
       "  </thead>\n",
       "  <tbody>\n",
       "    <tr>\n",
       "      <th>0</th>\n",
       "      <td>926</td>\n",
       "      <td>91</td>\n",
       "      <td>1</td>\n",
       "      <td>28</td>\n",
       "      <td>1</td>\n",
       "      <td>4</td>\n",
       "      <td>10</td>\n",
       "      <td>5</td>\n",
       "      <td>28912201</td>\n",
       "      <td>22861940</td>\n",
       "      <td>...</td>\n",
       "      <td>0</td>\n",
       "      <td>0</td>\n",
       "      <td>0</td>\n",
       "      <td>0</td>\n",
       "      <td>30028818</td>\n",
       "      <td>31363432</td>\n",
       "      <td>0</td>\n",
       "      <td>28411718</td>\n",
       "      <td>28292707.0</td>\n",
       "      <td>0</td>\n",
       "    </tr>\n",
       "    <tr>\n",
       "      <th>1</th>\n",
       "      <td>747</td>\n",
       "      <td>57</td>\n",
       "      <td>1</td>\n",
       "      <td>23</td>\n",
       "      <td>1</td>\n",
       "      <td>3</td>\n",
       "      <td>8</td>\n",
       "      <td>5</td>\n",
       "      <td>28912201</td>\n",
       "      <td>22861940</td>\n",
       "      <td>...</td>\n",
       "      <td>0</td>\n",
       "      <td>0</td>\n",
       "      <td>0</td>\n",
       "      <td>0</td>\n",
       "      <td>30028818</td>\n",
       "      <td>31363432</td>\n",
       "      <td>0</td>\n",
       "      <td>28411718</td>\n",
       "      <td>28292707.0</td>\n",
       "      <td>1</td>\n",
       "    </tr>\n",
       "    <tr>\n",
       "      <th>2</th>\n",
       "      <td>1190</td>\n",
       "      <td>115</td>\n",
       "      <td>1</td>\n",
       "      <td>22</td>\n",
       "      <td>1</td>\n",
       "      <td>3</td>\n",
       "      <td>9</td>\n",
       "      <td>5</td>\n",
       "      <td>28912201</td>\n",
       "      <td>22861940</td>\n",
       "      <td>...</td>\n",
       "      <td>0</td>\n",
       "      <td>0</td>\n",
       "      <td>0</td>\n",
       "      <td>0</td>\n",
       "      <td>30028818</td>\n",
       "      <td>31363432</td>\n",
       "      <td>0</td>\n",
       "      <td>28411718</td>\n",
       "      <td>28292707.0</td>\n",
       "      <td>0</td>\n",
       "    </tr>\n",
       "    <tr>\n",
       "      <th>3</th>\n",
       "      <td>1065</td>\n",
       "      <td>97</td>\n",
       "      <td>1</td>\n",
       "      <td>27</td>\n",
       "      <td>1</td>\n",
       "      <td>2</td>\n",
       "      <td>10</td>\n",
       "      <td>4</td>\n",
       "      <td>52667108</td>\n",
       "      <td>19698904</td>\n",
       "      <td>...</td>\n",
       "      <td>0</td>\n",
       "      <td>1</td>\n",
       "      <td>0</td>\n",
       "      <td>1</td>\n",
       "      <td>22288055</td>\n",
       "      <td>18751329</td>\n",
       "      <td>0</td>\n",
       "      <td>7781123</td>\n",
       "      <td>69219765.0</td>\n",
       "      <td>0</td>\n",
       "    </tr>\n",
       "    <tr>\n",
       "      <th>4</th>\n",
       "      <td>806</td>\n",
       "      <td>42</td>\n",
       "      <td>0</td>\n",
       "      <td>59</td>\n",
       "      <td>0</td>\n",
       "      <td>4</td>\n",
       "      <td>10</td>\n",
       "      <td>6</td>\n",
       "      <td>82606287</td>\n",
       "      <td>17352654</td>\n",
       "      <td>...</td>\n",
       "      <td>1</td>\n",
       "      <td>0</td>\n",
       "      <td>0</td>\n",
       "      <td>0</td>\n",
       "      <td>53384566</td>\n",
       "      <td>20731006</td>\n",
       "      <td>1</td>\n",
       "      <td>20100562</td>\n",
       "      <td>43419447.0</td>\n",
       "      <td>0</td>\n",
       "    </tr>\n",
       "  </tbody>\n",
       "</table>\n",
       "<p>5 rows × 23 columns</p>\n",
       "</div>"
      ],
      "text/plain": [
       "   Survey_id  Ville_id  sex  Age  Married  Number_children  education_level  \\\n",
       "0        926        91    1   28        1                4               10   \n",
       "1        747        57    1   23        1                3                8   \n",
       "2       1190       115    1   22        1                3                9   \n",
       "3       1065        97    1   27        1                2               10   \n",
       "4        806        42    0   59        0                4               10   \n",
       "\n",
       "   total_members  gained_asset  durable_asset  ...  incoming_salary  \\\n",
       "0              5      28912201       22861940  ...                0   \n",
       "1              5      28912201       22861940  ...                0   \n",
       "2              5      28912201       22861940  ...                0   \n",
       "3              4      52667108       19698904  ...                0   \n",
       "4              6      82606287       17352654  ...                1   \n",
       "\n",
       "   incoming_own_farm  incoming_business  incoming_no_business  \\\n",
       "0                  0                  0                     0   \n",
       "1                  0                  0                     0   \n",
       "2                  0                  0                     0   \n",
       "3                  1                  0                     1   \n",
       "4                  0                  0                     0   \n",
       "\n",
       "   incoming_agricultural  farm_expenses  labor_primary  lasting_investment  \\\n",
       "0               30028818       31363432              0            28411718   \n",
       "1               30028818       31363432              0            28411718   \n",
       "2               30028818       31363432              0            28411718   \n",
       "3               22288055       18751329              0             7781123   \n",
       "4               53384566       20731006              1            20100562   \n",
       "\n",
       "   no_lasting_investmen  depressed  \n",
       "0            28292707.0          0  \n",
       "1            28292707.0          1  \n",
       "2            28292707.0          0  \n",
       "3            69219765.0          0  \n",
       "4            43419447.0          0  \n",
       "\n",
       "[5 rows x 23 columns]"
      ]
     },
     "execution_count": 3,
     "metadata": {},
     "output_type": "execute_result"
    }
   ],
   "source": [
    "df.head()"
   ]
  },
  {
   "cell_type": "code",
   "execution_count": 4,
   "id": "932599e0",
   "metadata": {},
   "outputs": [],
   "source": [
    "#preprocessing data\n",
    "#take out rows with null values\n",
    "df = df.dropna()\n",
    "\n",
    "#separate into data (fetures only) and target (goal)\n",
    "data = df.drop(columns=['depressed'])  #features only. remove the target column\n",
    "target = df['depressed'].values   #the target only aka 'depressed or not?'"
   ]
  },
  {
   "cell_type": "code",
   "execution_count": 5,
   "id": "c42efc2a",
   "metadata": {},
   "outputs": [
    {
     "name": "stdout",
     "output_type": "stream",
     "text": [
      "Shape of X_test: (423, 22)\n",
      "Shape of X_train: (986, 22)\n",
      "Shape of y_test: (423,)\n",
      "Shape of y_train: (986,)\n"
     ]
    }
   ],
   "source": [
    "from sklearn.model_selection import train_test_split\n",
    "\n",
    "#dividing data into train and test\n",
    "X_train, X_test, y_train, y_test = train_test_split(data, target, test_size=0.3, random_state=0)\n",
    "\n",
    "print(\"Shape of X_test: {}\".format(X_test.shape))\n",
    "print(\"Shape of X_train: {}\".format(X_train.shape))\n",
    "print(\"Shape of y_test: {}\".format(y_test.shape))\n",
    "print(\"Shape of y_train: {}\".format(y_train.shape))"
   ]
  },
  {
   "cell_type": "code",
   "execution_count": 6,
   "id": "306b462d",
   "metadata": {},
   "outputs": [],
   "source": [
    "#building random forest model with hyperparameters\n",
    "\n",
    "#generating random estimators\n",
    "# Number of trees in random forest\n",
    "n_estimators = [int(x) for x in np.linspace(start = 10, stop = 80, num = 10)]\n",
    "# Number of features to consider at every split\n",
    "max_features = ['auto', 'sqrt']\n",
    "# Maximum number of levels in tree\n",
    "max_depth = [2,4,6]\n",
    "# Minimum number of samples required to split a node\n",
    "min_samples_split = [2, 5]\n",
    "# Minimum number of samples required at each leaf node\n",
    "min_samples_leaf = [1, 2]\n",
    "# Method of selecting samples for training each tree\n",
    "bootstrap = [True, False]"
   ]
  },
  {
   "cell_type": "code",
   "execution_count": 7,
   "id": "dd6da2b9",
   "metadata": {},
   "outputs": [
    {
     "name": "stdout",
     "output_type": "stream",
     "text": [
      "{'n_estimators': [10, 17, 25, 33, 41, 48, 56, 64, 72, 80], 'max_features': ['auto', 'sqrt'], 'max_depth': [2, 4, 6], 'min_samples_split': [2, 5], 'min_samples_leaf': [1, 2], 'bootstrap': [True, False]}\n"
     ]
    }
   ],
   "source": [
    "# Create the param grid\n",
    "param_grid = {'n_estimators': n_estimators,\n",
    "               'max_features': max_features,\n",
    "               'max_depth': max_depth,\n",
    "               'min_samples_split': min_samples_split,\n",
    "               'min_samples_leaf': min_samples_leaf,\n",
    "               'bootstrap': bootstrap}\n",
    "print(param_grid)"
   ]
  },
  {
   "cell_type": "code",
   "execution_count": 8,
   "id": "7113074f",
   "metadata": {},
   "outputs": [],
   "source": [
    "#create model\n",
    "rf_Model = RandomForestClassifier(n_estimators = 10, criterion = 'entropy', random_state=50)"
   ]
  },
  {
   "cell_type": "code",
   "execution_count": 9,
   "id": "1386a2df",
   "metadata": {},
   "outputs": [],
   "source": [
    "#using RandomizedSearchCV\n",
    "from sklearn.model_selection import RandomizedSearchCV\n",
    "rf_RandomGrid = RandomizedSearchCV(estimator = rf_Model, param_distributions = param_grid, n_iter = 100, cv =100, verbose=2, n_jobs = 10)"
   ]
  },
  {
   "cell_type": "code",
   "execution_count": 10,
   "id": "8765ae25",
   "metadata": {},
   "outputs": [
    {
     "name": "stdout",
     "output_type": "stream",
     "text": [
      "Fitting 100 folds for each of 100 candidates, totalling 10000 fits\n"
     ]
    },
    {
     "data": {
      "text/plain": [
       "RandomizedSearchCV(cv=100,\n",
       "                   estimator=RandomForestClassifier(criterion='entropy',\n",
       "                                                    n_estimators=10,\n",
       "                                                    random_state=50),\n",
       "                   n_iter=100, n_jobs=10,\n",
       "                   param_distributions={'bootstrap': [True, False],\n",
       "                                        'max_depth': [2, 4, 6],\n",
       "                                        'max_features': ['auto', 'sqrt'],\n",
       "                                        'min_samples_leaf': [1, 2],\n",
       "                                        'min_samples_split': [2, 5],\n",
       "                                        'n_estimators': [10, 17, 25, 33, 41, 48,\n",
       "                                                         56, 64, 72, 80]},\n",
       "                   verbose=2)"
      ]
     },
     "execution_count": 10,
     "metadata": {},
     "output_type": "execute_result"
    }
   ],
   "source": [
    "rf_RandomGrid.fit(X_train, y_train)"
   ]
  },
  {
   "cell_type": "code",
   "execution_count": 11,
   "id": "bb54d700",
   "metadata": {},
   "outputs": [
    {
     "data": {
      "text/plain": [
       "{'n_estimators': 72,\n",
       " 'min_samples_split': 5,\n",
       " 'min_samples_leaf': 2,\n",
       " 'max_features': 'sqrt',\n",
       " 'max_depth': 4,\n",
       " 'bootstrap': False}"
      ]
     },
     "execution_count": 11,
     "metadata": {},
     "output_type": "execute_result"
    }
   ],
   "source": [
    "rf_RandomGrid.best_params_"
   ]
  },
  {
   "cell_type": "code",
   "execution_count": 12,
   "id": "4160fbbd",
   "metadata": {},
   "outputs": [
    {
     "name": "stdout",
     "output_type": "stream",
     "text": [
      "With RandomizedSearch\n",
      "Train Accuracy - : 0.836\n",
      "Test Accuracy - : 0.839\n"
     ]
    }
   ],
   "source": [
    "print('With RandomizedSearch')\n",
    "print (f'Train Accuracy - : {rf_RandomGrid.score(X_train,y_train):.3f}')\n",
    "print (f'Test Accuracy - : {rf_RandomGrid.score(X_test,y_test):.3f}')"
   ]
  },
  {
   "cell_type": "code",
   "execution_count": 13,
   "id": "4f01803b",
   "metadata": {},
   "outputs": [
    {
     "name": "stdout",
     "output_type": "stream",
     "text": [
      "[0 0 0 0 0 0 0 0 0 0 0 0 0 0 0 0 0 0 0 0 0 0 0 0 0 0 0 0 0 0 0 0 0 0 0 0 0\n",
      " 0 0 0 0 0 0 0 0 0 0 0 0 0 0 0 0 0 0 0 0 0 0 0 0 0 0 0 0 0 0 0 0 0 0 0 0 0\n",
      " 0 0 0 0 0 0 0 0 0 0 0 0 0 0 0 0 0 0 0 0 0 0 0 0 0 0 0 0 0 0 0 0 0 0 0 0 0\n",
      " 0 0 0 0 0 0 0 0 0 0 0 0 0 0 0 0 0 0 0 0 0 0 0 0 0 0 0 0 0 0 0 0 0 0 0 0 0\n",
      " 0 0 0 0 0 0 0 0 0 0 0 0 0 0 0 0 0 0 0 0 0 0 0 0 0 0 0 0 0 0 0 0 0 0 0 0 0\n",
      " 0 0 0 0 0 0 0 0 0 0 0 0 0 0 0 0 0 0 0 0 0 0 0 0 0 0 0 0 0 0 0 0 0 0 0 0 0\n",
      " 0 0 0 0 0 0 0 0 0 0 0 0 0 0 0 0 0 0 0 0 0 0 0 0 0 0 0 0 0 0 0 0 0 0 0 0 0\n",
      " 0 0 0 0 0 0 0 0 0 0 0 0 0 0 0 0 0 0 0 0 0 0 0 0 0 0 0 0 0 0 0 0 0 0 0 0 0\n",
      " 0 0 0 0 0 0 0 0 0 0 0 0 0 0 0 0 0 0 0 0 0 0 0 0 0 0 0 0 0 0 0 0 0 0 0 0 0\n",
      " 0 0 0 0 0 0 0 0 0 0 0 0 0 0 0 0 0 0 0 0 0 0 0 0 0 0 0 0 0 0 0 0 0 0 0 0 0\n",
      " 0 0 0 0 0 0 0 0 0 0 0 0 0 0 0 0 0 0 0 0 0 0 0 0 0 0 0 0 0 0 0 0 0 0 0 0 0\n",
      " 0 0 0 0 0 0 0 0 0 0 0 0 0 0 0 0]\n"
     ]
    }
   ],
   "source": [
    "#use the forest's predict method on the test data\n",
    "prediction = rf_RandomGrid.predict(X_test)\n",
    "\n",
    "print(prediction)"
   ]
  },
  {
   "cell_type": "code",
   "execution_count": 14,
   "id": "4f830628",
   "metadata": {},
   "outputs": [
    {
     "name": "stdout",
     "output_type": "stream",
     "text": [
      "Accuracy (Optimized - RandomizedSearch):  0.8392434988179669\n"
     ]
    }
   ],
   "source": [
    "#import scikit-learn metrics module for accuract testing\n",
    "from sklearn import metrics\n",
    "\n",
    "#model accuracy, how often is the classifier correct?\n",
    "#compare predicted values to the actual target value in y_test set\n",
    "\n",
    "print(\"Accuracy (Optimized - RandomizedSearch): \", metrics.accuracy_score(y_test, prediction))"
   ]
  },
  {
   "cell_type": "code",
   "execution_count": 15,
   "id": "0db99db4",
   "metadata": {},
   "outputs": [
    {
     "data": {
      "text/plain": [
       "array([[355,   0],\n",
       "       [ 68,   0]], dtype=int64)"
      ]
     },
     "execution_count": 15,
     "metadata": {},
     "output_type": "execute_result"
    }
   ],
   "source": [
    "#Evaluation metrics\n",
    "#Constructing the confusion matrix.\n",
    "from sklearn. metrics import confusion_matrix\n",
    "confusion_matrix(y_test, prediction)"
   ]
  },
  {
   "cell_type": "code",
   "execution_count": 16,
   "id": "d320ffa9",
   "metadata": {},
   "outputs": [
    {
     "data": {
      "image/png": "[encoded data removed]",
      "text/plain": [
       "<Figure size 432x288 with 1 Axes>"
      ]
     },
     "metadata": {
      "needs_background": "light"
     },
     "output_type": "display_data"
    }
   ],
   "source": [
    "from sklearn.tree import export_graphviz\n",
    "import pydot\n",
    "import pydotplus\n",
    "\n",
    "feature_list = list(data.columns)\n",
    "\n",
    "tree = rf_RandomGrid.best_estimator_[5]\n",
    "export_graphviz(tree, out_file = \"tree.dot\", filled = True, feature_names = feature_list, rounded = True, precision = 1)\n",
    "\n",
    "(graph, ) = pydot.graph_from_dot_file('tree.dot')\n",
    "\n",
    "graph.write_png('RandomForestOptimizedRandomizedSearch.png')\n",
    "\n",
    "#display the image\n",
    "import matplotlib.pyplot as plt\n",
    "import matplotlib.image as pltimg\n",
    "img=pltimg.imread('RandomForestOptimizedRandomizedSearch.png')\n",
    "imgplot = plt.imshow(img)\n",
    "plt.show()"
   ]
  },
  {
   "cell_type": "code",
   "execution_count": 17,
   "id": "eaddd8fb",
   "metadata": {},
   "outputs": [
    {
     "data": {
      "text/plain": [
       "[<matplotlib.lines.Line2D at 0x1a79aa2b8b0>,\n",
       " <matplotlib.lines.Line2D at 0x1a79aa1f490>]"
      ]
     },
     "execution_count": 17,
     "metadata": {},
     "output_type": "execute_result"
    },
    {
     "data": {
      "image/png": "[encoded data removed]",
      "text/plain": [
       "<Figure size 432x288 with 1 Axes>"
      ]
     },
     "metadata": {
      "needs_background": "light"
     },
     "output_type": "display_data"
    }
   ],
   "source": [
    "import mglearn\n",
    "\n",
    "mglearn.discrete_scatter(X_train.iloc[:, 0], X_train.iloc[:, 1], y_train)"
   ]
  },
  {
   "cell_type": "code",
   "execution_count": 18,
   "id": "bfc9fc47",
   "metadata": {},
   "outputs": [
    {
     "data": {
      "text/plain": [
       "[<matplotlib.lines.Line2D at 0x1a79be2c1c0>,\n",
       " <matplotlib.lines.Line2D at 0x1a79be1ef70>]"
      ]
     },
     "execution_count": 18,
     "metadata": {},
     "output_type": "execute_result"
    },
    {
     "data": {
      "image/png": "[encoded data removed]",
      "text/plain": [
       "<Figure size 432x288 with 1 Axes>"
      ]
     },
     "metadata": {
      "needs_background": "light"
     },
     "output_type": "display_data"
    }
   ],
   "source": [
    "mglearn.discrete_scatter(X_test.iloc[:, 0], X_test.iloc[:, 1], y_test)"
   ]
  },
  {
   "cell_type": "code",
   "execution_count": 19,
   "id": "3d73ffa1",
   "metadata": {},
   "outputs": [
    {
     "data": {
      "text/plain": [
       "[<matplotlib.lines.Line2D at 0x1a79be99460>,\n",
       " <matplotlib.lines.Line2D at 0x1a79be99730>]"
      ]
     },
     "execution_count": 19,
     "metadata": {},
     "output_type": "execute_result"
    },
    {
     "data": {
      "image/png": "[encoded data removed]",
      "text/plain": [
       "<Figure size 432x288 with 1 Axes>"
      ]
     },
     "metadata": {
      "needs_background": "light"
     },
     "output_type": "display_data"
    }
   ],
   "source": [
    "mglearn.discrete_scatter(prediction, prediction, y_test)"
   ]
  },
  {
   "cell_type": "code",
   "execution_count": 20,
   "id": "e014d3b4",
   "metadata": {},
   "outputs": [
    {
     "data": {
      "image/svg+xml": [
       "<?xml version=\"1.0\" encoding=\"UTF-8\" standalone=\"no\"?>\n",
       "<!DOCTYPE svg PUBLIC \"-//W3C//DTD SVG 1.1//EN\"\n",
       " \"http://www.w3.org/Graphics/SVG/1.1/DTD/svg11.dtd\">\n",
       "<!-- Generated by graphviz version 2.50.0 (0)\n",
       " -->\n",
       "<!-- Title: Tree Pages: 1 -->\n",
       "<svg width=\"1270pt\" height=\"552pt\"\n",
       " viewBox=\"0.00 0.00 1270.00 552.00\" xmlns=\"http://www.w3.org/2000/svg\" xmlns:xlink=\"http://www.w3.org/1999/xlink\">\n",
       "<g id=\"graph0\" class=\"graph\" transform=\"scale(1 1) rotate(0) translate(4 548)\">\n",
       "<title>Tree</title>\n",
       "<polygon fill=\"white\" stroke=\"transparent\" points=\"-4,4 -4,-548 1266,-548 1266,4 -4,4\"/>\n",
       "<!-- 0 -->\n",
       "<g id=\"node1\" class=\"node\">\n",
       "<title>0</title>\n",
       "<path fill=\"#ea9b61\" stroke=\"black\" d=\"M812,-544C812,-544 593,-544 593,-544 587,-544 581,-538 581,-532 581,-532 581,-473 581,-473 581,-467 587,-461 593,-461 593,-461 812,-461 812,-461 818,-461 824,-467 824,-473 824,-473 824,-532 824,-532 824,-538 818,-544 812,-544\"/>\n",
       "<text text-anchor=\"middle\" x=\"702.5\" y=\"-528.8\" font-family=\"Helvetica,sans-Serif\" font-size=\"14.00\">no_lasting_investmen &lt;= 27583694.0</text>\n",
       "<text text-anchor=\"middle\" x=\"702.5\" y=\"-513.8\" font-family=\"Helvetica,sans-Serif\" font-size=\"14.00\">entropy = 0.656</text>\n",
       "<text text-anchor=\"middle\" x=\"702.5\" y=\"-498.8\" font-family=\"Helvetica,sans-Serif\" font-size=\"14.00\">samples = 986</text>\n",
       "<text text-anchor=\"middle\" x=\"702.5\" y=\"-483.8\" font-family=\"Helvetica,sans-Serif\" font-size=\"14.00\">value = [819, 167]</text>\n",
       "<text text-anchor=\"middle\" x=\"702.5\" y=\"-468.8\" font-family=\"Helvetica,sans-Serif\" font-size=\"14.00\">class = t</text>\n",
       "</g>\n",
       "<!-- 1 -->\n",
       "<g id=\"node2\" class=\"node\">\n",
       "<title>1</title>\n",
       "<path fill=\"#e99355\" stroke=\"black\" d=\"M678,-425C678,-425 585,-425 585,-425 579,-425 573,-419 573,-413 573,-413 573,-354 573,-354 573,-348 579,-342 585,-342 585,-342 678,-342 678,-342 684,-342 690,-348 690,-354 690,-354 690,-413 690,-413 690,-419 684,-425 678,-425\"/>\n",
       "<text text-anchor=\"middle\" x=\"631.5\" y=\"-409.8\" font-family=\"Helvetica,sans-Serif\" font-size=\"14.00\">Age &lt;= 79.0</text>\n",
       "<text text-anchor=\"middle\" x=\"631.5\" y=\"-394.8\" font-family=\"Helvetica,sans-Serif\" font-size=\"14.00\">entropy = 0.536</text>\n",
       "<text text-anchor=\"middle\" x=\"631.5\" y=\"-379.8\" font-family=\"Helvetica,sans-Serif\" font-size=\"14.00\">samples = 343</text>\n",
       "<text text-anchor=\"middle\" x=\"631.5\" y=\"-364.8\" font-family=\"Helvetica,sans-Serif\" font-size=\"14.00\">value = [301, 42]</text>\n",
       "<text text-anchor=\"middle\" x=\"631.5\" y=\"-349.8\" font-family=\"Helvetica,sans-Serif\" font-size=\"14.00\">class = t</text>\n",
       "</g>\n",
       "<!-- 0&#45;&gt;1 -->\n",
       "<g id=\"edge1\" class=\"edge\">\n",
       "<title>0&#45;&gt;1</title>\n",
       "<path fill=\"none\" stroke=\"black\" d=\"M677.87,-460.91C672.53,-452.1 666.82,-442.7 661.3,-433.61\"/>\n",
       "<polygon fill=\"black\" stroke=\"black\" points=\"664.27,-431.75 656.09,-425.02 658.29,-435.39 664.27,-431.75\"/>\n",
       "<text text-anchor=\"middle\" x=\"650.15\" y=\"-445.6\" font-family=\"Helvetica,sans-Serif\" font-size=\"14.00\">True</text>\n",
       "</g>\n",
       "<!-- 10 -->\n",
       "<g id=\"node11\" class=\"node\">\n",
       "<title>10</title>\n",
       "<path fill=\"#eb9f69\" stroke=\"black\" d=\"M889,-425C889,-425 788,-425 788,-425 782,-425 776,-419 776,-413 776,-413 776,-354 776,-354 776,-348 782,-342 788,-342 788,-342 889,-342 889,-342 895,-342 901,-348 901,-354 901,-354 901,-413 901,-413 901,-419 895,-425 889,-425\"/>\n",
       "<text text-anchor=\"middle\" x=\"838.5\" y=\"-409.8\" font-family=\"Helvetica,sans-Serif\" font-size=\"14.00\">Ville_id &lt;= 114.5</text>\n",
       "<text text-anchor=\"middle\" x=\"838.5\" y=\"-394.8\" font-family=\"Helvetica,sans-Serif\" font-size=\"14.00\">entropy = 0.711</text>\n",
       "<text text-anchor=\"middle\" x=\"838.5\" y=\"-379.8\" font-family=\"Helvetica,sans-Serif\" font-size=\"14.00\">samples = 643</text>\n",
       "<text text-anchor=\"middle\" x=\"838.5\" y=\"-364.8\" font-family=\"Helvetica,sans-Serif\" font-size=\"14.00\">value = [518, 125]</text>\n",
       "<text text-anchor=\"middle\" x=\"838.5\" y=\"-349.8\" font-family=\"Helvetica,sans-Serif\" font-size=\"14.00\">class = t</text>\n",
       "</g>\n",
       "<!-- 0&#45;&gt;10 -->\n",
       "<g id=\"edge10\" class=\"edge\">\n",
       "<title>0&#45;&gt;10</title>\n",
       "<path fill=\"none\" stroke=\"black\" d=\"M749.68,-460.91C760.66,-451.47 772.43,-441.34 783.69,-431.65\"/>\n",
       "<polygon fill=\"black\" stroke=\"black\" points=\"786.1,-434.2 791.4,-425.02 781.54,-428.89 786.1,-434.2\"/>\n",
       "<text text-anchor=\"middle\" x=\"789.53\" y=\"-446.25\" font-family=\"Helvetica,sans-Serif\" font-size=\"14.00\">False</text>\n",
       "</g>\n",
       "<!-- 2 -->\n",
       "<g id=\"node3\" class=\"node\">\n",
       "<title>2</title>\n",
       "<path fill=\"#e89253\" stroke=\"black\" d=\"M515.5,-306C515.5,-306 343.5,-306 343.5,-306 337.5,-306 331.5,-300 331.5,-294 331.5,-294 331.5,-235 331.5,-235 331.5,-229 337.5,-223 343.5,-223 343.5,-223 515.5,-223 515.5,-223 521.5,-223 527.5,-229 527.5,-235 527.5,-235 527.5,-294 527.5,-294 527.5,-300 521.5,-306 515.5,-306\"/>\n",
       "<text text-anchor=\"middle\" x=\"429.5\" y=\"-290.8\" font-family=\"Helvetica,sans-Serif\" font-size=\"14.00\">durable_asset &lt;= 53211066.0</text>\n",
       "<text text-anchor=\"middle\" x=\"429.5\" y=\"-275.8\" font-family=\"Helvetica,sans-Serif\" font-size=\"14.00\">entropy = 0.524</text>\n",
       "<text text-anchor=\"middle\" x=\"429.5\" y=\"-260.8\" font-family=\"Helvetica,sans-Serif\" font-size=\"14.00\">samples = 339</text>\n",
       "<text text-anchor=\"middle\" x=\"429.5\" y=\"-245.8\" font-family=\"Helvetica,sans-Serif\" font-size=\"14.00\">value = [299, 40]</text>\n",
       "<text text-anchor=\"middle\" x=\"429.5\" y=\"-230.8\" font-family=\"Helvetica,sans-Serif\" font-size=\"14.00\">class = t</text>\n",
       "</g>\n",
       "<!-- 1&#45;&gt;2 -->\n",
       "<g id=\"edge2\" class=\"edge\">\n",
       "<title>1&#45;&gt;2</title>\n",
       "<path fill=\"none\" stroke=\"black\" d=\"M572.8,-348.5C552.63,-336.82 529.72,-323.55 508.22,-311.09\"/>\n",
       "<polygon fill=\"black\" stroke=\"black\" points=\"509.83,-307.98 499.42,-306 506.32,-314.04 509.83,-307.98\"/>\n",
       "</g>\n",
       "<!-- 9 -->\n",
       "<g id=\"node10\" class=\"node\">\n",
       "<title>9</title>\n",
       "<path fill=\"#ffffff\" stroke=\"black\" d=\"M667.5,-298.5C667.5,-298.5 595.5,-298.5 595.5,-298.5 589.5,-298.5 583.5,-292.5 583.5,-286.5 583.5,-286.5 583.5,-242.5 583.5,-242.5 583.5,-236.5 589.5,-230.5 595.5,-230.5 595.5,-230.5 667.5,-230.5 667.5,-230.5 673.5,-230.5 679.5,-236.5 679.5,-242.5 679.5,-242.5 679.5,-286.5 679.5,-286.5 679.5,-292.5 673.5,-298.5 667.5,-298.5\"/>\n",
       "<text text-anchor=\"middle\" x=\"631.5\" y=\"-283.3\" font-family=\"Helvetica,sans-Serif\" font-size=\"14.00\">entropy = 1.0</text>\n",
       "<text text-anchor=\"middle\" x=\"631.5\" y=\"-268.3\" font-family=\"Helvetica,sans-Serif\" font-size=\"14.00\">samples = 4</text>\n",
       "<text text-anchor=\"middle\" x=\"631.5\" y=\"-253.3\" font-family=\"Helvetica,sans-Serif\" font-size=\"14.00\">value = [2, 2]</text>\n",
       "<text text-anchor=\"middle\" x=\"631.5\" y=\"-238.3\" font-family=\"Helvetica,sans-Serif\" font-size=\"14.00\">class = t</text>\n",
       "</g>\n",
       "<!-- 1&#45;&gt;9 -->\n",
       "<g id=\"edge9\" class=\"edge\">\n",
       "<title>1&#45;&gt;9</title>\n",
       "<path fill=\"none\" stroke=\"black\" d=\"M631.5,-341.91C631.5,-331.2 631.5,-319.62 631.5,-308.78\"/>\n",
       "<polygon fill=\"black\" stroke=\"black\" points=\"635,-308.67 631.5,-298.67 628,-308.67 635,-308.67\"/>\n",
       "</g>\n",
       "<!-- 3 -->\n",
       "<g id=\"node4\" class=\"node\">\n",
       "<title>3</title>\n",
       "<path fill=\"#e88f4f\" stroke=\"black\" d=\"M274,-187C274,-187 93,-187 93,-187 87,-187 81,-181 81,-175 81,-175 81,-116 81,-116 81,-110 87,-104 93,-104 93,-104 274,-104 274,-104 280,-104 286,-110 286,-116 286,-116 286,-175 286,-175 286,-181 280,-187 274,-187\"/>\n",
       "<text text-anchor=\"middle\" x=\"183.5\" y=\"-171.8\" font-family=\"Helvetica,sans-Serif\" font-size=\"14.00\">farm_expenses &lt;= 97404588.0</text>\n",
       "<text text-anchor=\"middle\" x=\"183.5\" y=\"-156.8\" font-family=\"Helvetica,sans-Serif\" font-size=\"14.00\">entropy = 0.47</text>\n",
       "<text text-anchor=\"middle\" x=\"183.5\" y=\"-141.8\" font-family=\"Helvetica,sans-Serif\" font-size=\"14.00\">samples = 289</text>\n",
       "<text text-anchor=\"middle\" x=\"183.5\" y=\"-126.8\" font-family=\"Helvetica,sans-Serif\" font-size=\"14.00\">value = [260, 29]</text>\n",
       "<text text-anchor=\"middle\" x=\"183.5\" y=\"-111.8\" font-family=\"Helvetica,sans-Serif\" font-size=\"14.00\">class = t</text>\n",
       "</g>\n",
       "<!-- 2&#45;&gt;3 -->\n",
       "<g id=\"edge3\" class=\"edge\">\n",
       "<title>2&#45;&gt;3</title>\n",
       "<path fill=\"none\" stroke=\"black\" d=\"M344.15,-222.91C322.78,-212.74 299.73,-201.78 277.95,-191.42\"/>\n",
       "<polygon fill=\"black\" stroke=\"black\" points=\"279.23,-188.16 268.7,-187.02 276.22,-194.48 279.23,-188.16\"/>\n",
       "</g>\n",
       "<!-- 6 -->\n",
       "<g id=\"node7\" class=\"node\">\n",
       "<title>6</title>\n",
       "<path fill=\"#eca571\" stroke=\"black\" d=\"M537.5,-187C537.5,-187 321.5,-187 321.5,-187 315.5,-187 309.5,-181 309.5,-175 309.5,-175 309.5,-116 309.5,-116 309.5,-110 315.5,-104 321.5,-104 321.5,-104 537.5,-104 537.5,-104 543.5,-104 549.5,-110 549.5,-116 549.5,-116 549.5,-175 549.5,-175 549.5,-181 543.5,-187 537.5,-187\"/>\n",
       "<text text-anchor=\"middle\" x=\"429.5\" y=\"-171.8\" font-family=\"Helvetica,sans-Serif\" font-size=\"14.00\">incoming_agricultural &lt;= 26024977.0</text>\n",
       "<text text-anchor=\"middle\" x=\"429.5\" y=\"-156.8\" font-family=\"Helvetica,sans-Serif\" font-size=\"14.00\">entropy = 0.76</text>\n",
       "<text text-anchor=\"middle\" x=\"429.5\" y=\"-141.8\" font-family=\"Helvetica,sans-Serif\" font-size=\"14.00\">samples = 50</text>\n",
       "<text text-anchor=\"middle\" x=\"429.5\" y=\"-126.8\" font-family=\"Helvetica,sans-Serif\" font-size=\"14.00\">value = [39, 11]</text>\n",
       "<text text-anchor=\"middle\" x=\"429.5\" y=\"-111.8\" font-family=\"Helvetica,sans-Serif\" font-size=\"14.00\">class = t</text>\n",
       "</g>\n",
       "<!-- 2&#45;&gt;6 -->\n",
       "<g id=\"edge6\" class=\"edge\">\n",
       "<title>2&#45;&gt;6</title>\n",
       "<path fill=\"none\" stroke=\"black\" d=\"M429.5,-222.91C429.5,-214.65 429.5,-205.86 429.5,-197.3\"/>\n",
       "<polygon fill=\"black\" stroke=\"black\" points=\"433,-197.02 429.5,-187.02 426,-197.02 433,-197.02\"/>\n",
       "</g>\n",
       "<!-- 4 -->\n",
       "<g id=\"node5\" class=\"node\">\n",
       "<title>4</title>\n",
       "<path fill=\"#e88e4e\" stroke=\"black\" d=\"M105,-68C105,-68 12,-68 12,-68 6,-68 0,-62 0,-56 0,-56 0,-12 0,-12 0,-6 6,0 12,0 12,0 105,0 105,0 111,0 117,-6 117,-12 117,-12 117,-56 117,-56 117,-62 111,-68 105,-68\"/>\n",
       "<text text-anchor=\"middle\" x=\"58.5\" y=\"-52.8\" font-family=\"Helvetica,sans-Serif\" font-size=\"14.00\">entropy = 0.452</text>\n",
       "<text text-anchor=\"middle\" x=\"58.5\" y=\"-37.8\" font-family=\"Helvetica,sans-Serif\" font-size=\"14.00\">samples = 285</text>\n",
       "<text text-anchor=\"middle\" x=\"58.5\" y=\"-22.8\" font-family=\"Helvetica,sans-Serif\" font-size=\"14.00\">value = [258, 27]</text>\n",
       "<text text-anchor=\"middle\" x=\"58.5\" y=\"-7.8\" font-family=\"Helvetica,sans-Serif\" font-size=\"14.00\">class = t</text>\n",
       "</g>\n",
       "<!-- 3&#45;&gt;4 -->\n",
       "<g id=\"edge4\" class=\"edge\">\n",
       "<title>3&#45;&gt;4</title>\n",
       "<path fill=\"none\" stroke=\"black\" d=\"M136.95,-103.73C126.23,-94.33 114.83,-84.35 104.15,-74.99\"/>\n",
       "<polygon fill=\"black\" stroke=\"black\" points=\"106.34,-72.26 96.51,-68.3 101.73,-77.52 106.34,-72.26\"/>\n",
       "</g>\n",
       "<!-- 5 -->\n",
       "<g id=\"node6\" class=\"node\">\n",
       "<title>5</title>\n",
       "<path fill=\"#ffffff\" stroke=\"black\" d=\"M219.5,-68C219.5,-68 147.5,-68 147.5,-68 141.5,-68 135.5,-62 135.5,-56 135.5,-56 135.5,-12 135.5,-12 135.5,-6 141.5,0 147.5,0 147.5,0 219.5,0 219.5,0 225.5,0 231.5,-6 231.5,-12 231.5,-12 231.5,-56 231.5,-56 231.5,-62 225.5,-68 219.5,-68\"/>\n",
       "<text text-anchor=\"middle\" x=\"183.5\" y=\"-52.8\" font-family=\"Helvetica,sans-Serif\" font-size=\"14.00\">entropy = 1.0</text>\n",
       "<text text-anchor=\"middle\" x=\"183.5\" y=\"-37.8\" font-family=\"Helvetica,sans-Serif\" font-size=\"14.00\">samples = 4</text>\n",
       "<text text-anchor=\"middle\" x=\"183.5\" y=\"-22.8\" font-family=\"Helvetica,sans-Serif\" font-size=\"14.00\">value = [2, 2]</text>\n",
       "<text text-anchor=\"middle\" x=\"183.5\" y=\"-7.8\" font-family=\"Helvetica,sans-Serif\" font-size=\"14.00\">class = t</text>\n",
       "</g>\n",
       "<!-- 3&#45;&gt;5 -->\n",
       "<g id=\"edge5\" class=\"edge\">\n",
       "<title>3&#45;&gt;5</title>\n",
       "<path fill=\"none\" stroke=\"black\" d=\"M183.5,-103.73C183.5,-95.52 183.5,-86.86 183.5,-78.56\"/>\n",
       "<polygon fill=\"black\" stroke=\"black\" points=\"187,-78.3 183.5,-68.3 180,-78.3 187,-78.3\"/>\n",
       "</g>\n",
       "<!-- 7 -->\n",
       "<g id=\"node8\" class=\"node\">\n",
       "<title>7</title>\n",
       "<path fill=\"#e99457\" stroke=\"black\" d=\"M349,-68C349,-68 262,-68 262,-68 256,-68 250,-62 250,-56 250,-56 250,-12 250,-12 250,-6 256,0 262,0 262,0 349,0 349,0 355,0 361,-6 361,-12 361,-12 361,-56 361,-56 361,-62 355,-68 349,-68\"/>\n",
       "<text text-anchor=\"middle\" x=\"305.5\" y=\"-52.8\" font-family=\"Helvetica,sans-Serif\" font-size=\"14.00\">entropy = 0.559</text>\n",
       "<text text-anchor=\"middle\" x=\"305.5\" y=\"-37.8\" font-family=\"Helvetica,sans-Serif\" font-size=\"14.00\">samples = 23</text>\n",
       "<text text-anchor=\"middle\" x=\"305.5\" y=\"-22.8\" font-family=\"Helvetica,sans-Serif\" font-size=\"14.00\">value = [20, 3]</text>\n",
       "<text text-anchor=\"middle\" x=\"305.5\" y=\"-7.8\" font-family=\"Helvetica,sans-Serif\" font-size=\"14.00\">class = t</text>\n",
       "</g>\n",
       "<!-- 6&#45;&gt;7 -->\n",
       "<g id=\"edge7\" class=\"edge\">\n",
       "<title>6&#45;&gt;7</title>\n",
       "<path fill=\"none\" stroke=\"black\" d=\"M383.33,-103.73C372.69,-94.33 361.38,-84.35 350.78,-74.99\"/>\n",
       "<polygon fill=\"black\" stroke=\"black\" points=\"353.02,-72.3 343.21,-68.3 348.39,-77.54 353.02,-72.3\"/>\n",
       "</g>\n",
       "<!-- 8 -->\n",
       "<g id=\"node9\" class=\"node\">\n",
       "<title>8</title>\n",
       "<path fill=\"#f0b68c\" stroke=\"black\" d=\"M478,-68C478,-68 391,-68 391,-68 385,-68 379,-62 379,-56 379,-56 379,-12 379,-12 379,-6 385,0 391,0 391,0 478,0 478,0 484,0 490,-6 490,-12 490,-12 490,-56 490,-56 490,-62 484,-68 478,-68\"/>\n",
       "<text text-anchor=\"middle\" x=\"434.5\" y=\"-52.8\" font-family=\"Helvetica,sans-Serif\" font-size=\"14.00\">entropy = 0.877</text>\n",
       "<text text-anchor=\"middle\" x=\"434.5\" y=\"-37.8\" font-family=\"Helvetica,sans-Serif\" font-size=\"14.00\">samples = 27</text>\n",
       "<text text-anchor=\"middle\" x=\"434.5\" y=\"-22.8\" font-family=\"Helvetica,sans-Serif\" font-size=\"14.00\">value = [19, 8]</text>\n",
       "<text text-anchor=\"middle\" x=\"434.5\" y=\"-7.8\" font-family=\"Helvetica,sans-Serif\" font-size=\"14.00\">class = t</text>\n",
       "</g>\n",
       "<!-- 6&#45;&gt;8 -->\n",
       "<g id=\"edge8\" class=\"edge\">\n",
       "<title>6&#45;&gt;8</title>\n",
       "<path fill=\"none\" stroke=\"black\" d=\"M431.36,-103.73C431.74,-95.52 432.13,-86.86 432.51,-78.56\"/>\n",
       "<polygon fill=\"black\" stroke=\"black\" points=\"436.02,-78.45 432.98,-68.3 429.03,-78.13 436.02,-78.45\"/>\n",
       "</g>\n",
       "<!-- 11 -->\n",
       "<g id=\"node12\" class=\"node\">\n",
       "<title>11</title>\n",
       "<path fill=\"#ea9c63\" stroke=\"black\" d=\"M903,-306C903,-306 774,-306 774,-306 768,-306 762,-300 762,-294 762,-294 762,-235 762,-235 762,-229 768,-223 774,-223 774,-223 903,-223 903,-223 909,-223 915,-229 915,-235 915,-235 915,-294 915,-294 915,-300 909,-306 903,-306\"/>\n",
       "<text text-anchor=\"middle\" x=\"838.5\" y=\"-290.8\" font-family=\"Helvetica,sans-Serif\" font-size=\"14.00\">education_level &lt;= 7.5</text>\n",
       "<text text-anchor=\"middle\" x=\"838.5\" y=\"-275.8\" font-family=\"Helvetica,sans-Serif\" font-size=\"14.00\">entropy = 0.666</text>\n",
       "<text text-anchor=\"middle\" x=\"838.5\" y=\"-260.8\" font-family=\"Helvetica,sans-Serif\" font-size=\"14.00\">samples = 489</text>\n",
       "<text text-anchor=\"middle\" x=\"838.5\" y=\"-245.8\" font-family=\"Helvetica,sans-Serif\" font-size=\"14.00\">value = [404, 85]</text>\n",
       "<text text-anchor=\"middle\" x=\"838.5\" y=\"-230.8\" font-family=\"Helvetica,sans-Serif\" font-size=\"14.00\">class = t</text>\n",
       "</g>\n",
       "<!-- 10&#45;&gt;11 -->\n",
       "<g id=\"edge11\" class=\"edge\">\n",
       "<title>10&#45;&gt;11</title>\n",
       "<path fill=\"none\" stroke=\"black\" d=\"M838.5,-341.91C838.5,-333.65 838.5,-324.86 838.5,-316.3\"/>\n",
       "<polygon fill=\"black\" stroke=\"black\" points=\"842,-316.02 838.5,-306.02 835,-316.02 842,-316.02\"/>\n",
       "</g>\n",
       "<!-- 18 -->\n",
       "<g id=\"node19\" class=\"node\">\n",
       "<title>18</title>\n",
       "<path fill=\"#eead7e\" stroke=\"black\" d=\"M1177.5,-306C1177.5,-306 977.5,-306 977.5,-306 971.5,-306 965.5,-300 965.5,-294 965.5,-294 965.5,-235 965.5,-235 965.5,-229 971.5,-223 977.5,-223 977.5,-223 1177.5,-223 1177.5,-223 1183.5,-223 1189.5,-229 1189.5,-235 1189.5,-235 1189.5,-294 1189.5,-294 1189.5,-300 1183.5,-306 1177.5,-306\"/>\n",
       "<text text-anchor=\"middle\" x=\"1077.5\" y=\"-290.8\" font-family=\"Helvetica,sans-Serif\" font-size=\"14.00\">lasting_investment &lt;= 84322128.0</text>\n",
       "<text text-anchor=\"middle\" x=\"1077.5\" y=\"-275.8\" font-family=\"Helvetica,sans-Serif\" font-size=\"14.00\">entropy = 0.826</text>\n",
       "<text text-anchor=\"middle\" x=\"1077.5\" y=\"-260.8\" font-family=\"Helvetica,sans-Serif\" font-size=\"14.00\">samples = 154</text>\n",
       "<text text-anchor=\"middle\" x=\"1077.5\" y=\"-245.8\" font-family=\"Helvetica,sans-Serif\" font-size=\"14.00\">value = [114, 40]</text>\n",
       "<text text-anchor=\"middle\" x=\"1077.5\" y=\"-230.8\" font-family=\"Helvetica,sans-Serif\" font-size=\"14.00\">class = t</text>\n",
       "</g>\n",
       "<!-- 10&#45;&gt;18 -->\n",
       "<g id=\"edge18\" class=\"edge\">\n",
       "<title>10&#45;&gt;18</title>\n",
       "<path fill=\"none\" stroke=\"black\" d=\"M901.29,-351.76C927,-339.17 957.27,-324.36 985.4,-310.59\"/>\n",
       "<polygon fill=\"black\" stroke=\"black\" points=\"987,-313.7 994.44,-306.16 983.92,-307.41 987,-313.7\"/>\n",
       "</g>\n",
       "<!-- 12 -->\n",
       "<g id=\"node13\" class=\"node\">\n",
       "<title>12</title>\n",
       "<path fill=\"#efb387\" stroke=\"black\" d=\"M774.5,-187C774.5,-187 590.5,-187 590.5,-187 584.5,-187 578.5,-181 578.5,-175 578.5,-175 578.5,-116 578.5,-116 578.5,-110 584.5,-104 590.5,-104 590.5,-104 774.5,-104 774.5,-104 780.5,-104 786.5,-110 786.5,-116 786.5,-116 786.5,-175 786.5,-175 786.5,-181 780.5,-187 774.5,-187\"/>\n",
       "<text text-anchor=\"middle\" x=\"682.5\" y=\"-171.8\" font-family=\"Helvetica,sans-Serif\" font-size=\"14.00\">other_expenses &lt;= 29748550.0</text>\n",
       "<text text-anchor=\"middle\" x=\"682.5\" y=\"-156.8\" font-family=\"Helvetica,sans-Serif\" font-size=\"14.00\">entropy = 0.86</text>\n",
       "<text text-anchor=\"middle\" x=\"682.5\" y=\"-141.8\" font-family=\"Helvetica,sans-Serif\" font-size=\"14.00\">samples = 120</text>\n",
       "<text text-anchor=\"middle\" x=\"682.5\" y=\"-126.8\" font-family=\"Helvetica,sans-Serif\" font-size=\"14.00\">value = [86, 34]</text>\n",
       "<text text-anchor=\"middle\" x=\"682.5\" y=\"-111.8\" font-family=\"Helvetica,sans-Serif\" font-size=\"14.00\">class = t</text>\n",
       "</g>\n",
       "<!-- 11&#45;&gt;12 -->\n",
       "<g id=\"edge12\" class=\"edge\">\n",
       "<title>11&#45;&gt;12</title>\n",
       "<path fill=\"none\" stroke=\"black\" d=\"M784.38,-222.91C771.55,-213.29 757.77,-202.95 744.62,-193.09\"/>\n",
       "<polygon fill=\"black\" stroke=\"black\" points=\"746.63,-190.22 736.53,-187.02 742.43,-195.82 746.63,-190.22\"/>\n",
       "</g>\n",
       "<!-- 15 -->\n",
       "<g id=\"node16\" class=\"node\">\n",
       "<title>15</title>\n",
       "<path fill=\"#e99559\" stroke=\"black\" d=\"M942.5,-187C942.5,-187 816.5,-187 816.5,-187 810.5,-187 804.5,-181 804.5,-175 804.5,-175 804.5,-116 804.5,-116 804.5,-110 810.5,-104 816.5,-104 816.5,-104 942.5,-104 942.5,-104 948.5,-104 954.5,-110 954.5,-116 954.5,-116 954.5,-175 954.5,-175 954.5,-181 948.5,-187 942.5,-187\"/>\n",
       "<text text-anchor=\"middle\" x=\"879.5\" y=\"-171.8\" font-family=\"Helvetica,sans-Serif\" font-size=\"14.00\">total_members &lt;= 2.5</text>\n",
       "<text text-anchor=\"middle\" x=\"879.5\" y=\"-156.8\" font-family=\"Helvetica,sans-Serif\" font-size=\"14.00\">entropy = 0.58</text>\n",
       "<text text-anchor=\"middle\" x=\"879.5\" y=\"-141.8\" font-family=\"Helvetica,sans-Serif\" font-size=\"14.00\">samples = 369</text>\n",
       "<text text-anchor=\"middle\" x=\"879.5\" y=\"-126.8\" font-family=\"Helvetica,sans-Serif\" font-size=\"14.00\">value = [318, 51]</text>\n",
       "<text text-anchor=\"middle\" x=\"879.5\" y=\"-111.8\" font-family=\"Helvetica,sans-Serif\" font-size=\"14.00\">class = t</text>\n",
       "</g>\n",
       "<!-- 11&#45;&gt;15 -->\n",
       "<g id=\"edge15\" class=\"edge\">\n",
       "<title>11&#45;&gt;15</title>\n",
       "<path fill=\"none\" stroke=\"black\" d=\"M852.72,-222.91C855.68,-214.47 858.83,-205.48 861.9,-196.74\"/>\n",
       "<polygon fill=\"black\" stroke=\"black\" points=\"865.3,-197.62 865.3,-187.02 858.69,-195.3 865.3,-197.62\"/>\n",
       "</g>\n",
       "<!-- 13 -->\n",
       "<g id=\"node14\" class=\"node\">\n",
       "<title>13</title>\n",
       "<path fill=\"#eda978\" stroke=\"black\" d=\"M607,-68C607,-68 520,-68 520,-68 514,-68 508,-62 508,-56 508,-56 508,-12 508,-12 508,-6 514,0 520,0 520,0 607,0 607,0 613,0 619,-6 619,-12 619,-12 619,-56 619,-56 619,-62 613,-68 607,-68\"/>\n",
       "<text text-anchor=\"middle\" x=\"563.5\" y=\"-52.8\" font-family=\"Helvetica,sans-Serif\" font-size=\"14.00\">entropy = 0.799</text>\n",
       "<text text-anchor=\"middle\" x=\"563.5\" y=\"-37.8\" font-family=\"Helvetica,sans-Serif\" font-size=\"14.00\">samples = 99</text>\n",
       "<text text-anchor=\"middle\" x=\"563.5\" y=\"-22.8\" font-family=\"Helvetica,sans-Serif\" font-size=\"14.00\">value = [75, 24]</text>\n",
       "<text text-anchor=\"middle\" x=\"563.5\" y=\"-7.8\" font-family=\"Helvetica,sans-Serif\" font-size=\"14.00\">class = t</text>\n",
       "</g>\n",
       "<!-- 12&#45;&gt;13 -->\n",
       "<g id=\"edge13\" class=\"edge\">\n",
       "<title>12&#45;&gt;13</title>\n",
       "<path fill=\"none\" stroke=\"black\" d=\"M638.19,-103.73C628.08,-94.42 617.34,-84.54 607.25,-75.26\"/>\n",
       "<polygon fill=\"black\" stroke=\"black\" points=\"609.42,-72.5 599.69,-68.3 604.68,-77.65 609.42,-72.5\"/>\n",
       "</g>\n",
       "<!-- 14 -->\n",
       "<g id=\"node15\" class=\"node\">\n",
       "<title>14</title>\n",
       "<path fill=\"#fdf4ed\" stroke=\"black\" d=\"M736,-68C736,-68 649,-68 649,-68 643,-68 637,-62 637,-56 637,-56 637,-12 637,-12 637,-6 643,0 649,0 649,0 736,0 736,0 742,0 748,-6 748,-12 748,-12 748,-56 748,-56 748,-62 742,-68 736,-68\"/>\n",
       "<text text-anchor=\"middle\" x=\"692.5\" y=\"-52.8\" font-family=\"Helvetica,sans-Serif\" font-size=\"14.00\">entropy = 0.998</text>\n",
       "<text text-anchor=\"middle\" x=\"692.5\" y=\"-37.8\" font-family=\"Helvetica,sans-Serif\" font-size=\"14.00\">samples = 21</text>\n",
       "<text text-anchor=\"middle\" x=\"692.5\" y=\"-22.8\" font-family=\"Helvetica,sans-Serif\" font-size=\"14.00\">value = [11, 10]</text>\n",
       "<text text-anchor=\"middle\" x=\"692.5\" y=\"-7.8\" font-family=\"Helvetica,sans-Serif\" font-size=\"14.00\">class = t</text>\n",
       "</g>\n",
       "<!-- 12&#45;&gt;14 -->\n",
       "<g id=\"edge14\" class=\"edge\">\n",
       "<title>12&#45;&gt;14</title>\n",
       "<path fill=\"none\" stroke=\"black\" d=\"M686.22,-103.73C686.98,-95.43 687.78,-86.67 688.55,-78.28\"/>\n",
       "<polygon fill=\"black\" stroke=\"black\" points=\"692.03,-78.58 689.46,-68.3 685.06,-77.94 692.03,-78.58\"/>\n",
       "</g>\n",
       "<!-- 16 -->\n",
       "<g id=\"node17\" class=\"node\">\n",
       "<title>16</title>\n",
       "<path fill=\"#e58139\" stroke=\"black\" d=\"M856.5,-68C856.5,-68 778.5,-68 778.5,-68 772.5,-68 766.5,-62 766.5,-56 766.5,-56 766.5,-12 766.5,-12 766.5,-6 772.5,0 778.5,0 778.5,0 856.5,0 856.5,0 862.5,0 868.5,-6 868.5,-12 868.5,-12 868.5,-56 868.5,-56 868.5,-62 862.5,-68 856.5,-68\"/>\n",
       "<text text-anchor=\"middle\" x=\"817.5\" y=\"-52.8\" font-family=\"Helvetica,sans-Serif\" font-size=\"14.00\">entropy = 0.0</text>\n",
       "<text text-anchor=\"middle\" x=\"817.5\" y=\"-37.8\" font-family=\"Helvetica,sans-Serif\" font-size=\"14.00\">samples = 17</text>\n",
       "<text text-anchor=\"middle\" x=\"817.5\" y=\"-22.8\" font-family=\"Helvetica,sans-Serif\" font-size=\"14.00\">value = [17, 0]</text>\n",
       "<text text-anchor=\"middle\" x=\"817.5\" y=\"-7.8\" font-family=\"Helvetica,sans-Serif\" font-size=\"14.00\">class = t</text>\n",
       "</g>\n",
       "<!-- 15&#45;&gt;16 -->\n",
       "<g id=\"edge16\" class=\"edge\">\n",
       "<title>15&#45;&gt;16</title>\n",
       "<path fill=\"none\" stroke=\"black\" d=\"M856.41,-103.73C851.51,-95.06 846.32,-85.9 841.38,-77.18\"/>\n",
       "<polygon fill=\"black\" stroke=\"black\" points=\"844.33,-75.28 836.35,-68.3 838.24,-78.73 844.33,-75.28\"/>\n",
       "</g>\n",
       "<!-- 17 -->\n",
       "<g id=\"node18\" class=\"node\">\n",
       "<title>17</title>\n",
       "<path fill=\"#e9965b\" stroke=\"black\" d=\"M992,-68C992,-68 899,-68 899,-68 893,-68 887,-62 887,-56 887,-56 887,-12 887,-12 887,-6 893,0 899,0 899,0 992,0 992,0 998,0 1004,-6 1004,-12 1004,-12 1004,-56 1004,-56 1004,-62 998,-68 992,-68\"/>\n",
       "<text text-anchor=\"middle\" x=\"945.5\" y=\"-52.8\" font-family=\"Helvetica,sans-Serif\" font-size=\"14.00\">entropy = 0.597</text>\n",
       "<text text-anchor=\"middle\" x=\"945.5\" y=\"-37.8\" font-family=\"Helvetica,sans-Serif\" font-size=\"14.00\">samples = 352</text>\n",
       "<text text-anchor=\"middle\" x=\"945.5\" y=\"-22.8\" font-family=\"Helvetica,sans-Serif\" font-size=\"14.00\">value = [301, 51]</text>\n",
       "<text text-anchor=\"middle\" x=\"945.5\" y=\"-7.8\" font-family=\"Helvetica,sans-Serif\" font-size=\"14.00\">class = t</text>\n",
       "</g>\n",
       "<!-- 15&#45;&gt;17 -->\n",
       "<g id=\"edge17\" class=\"edge\">\n",
       "<title>15&#45;&gt;17</title>\n",
       "<path fill=\"none\" stroke=\"black\" d=\"M904.08,-103.73C909.35,-94.97 914.94,-85.7 920.24,-76.91\"/>\n",
       "<polygon fill=\"black\" stroke=\"black\" points=\"923.26,-78.67 925.43,-68.3 917.27,-75.06 923.26,-78.67\"/>\n",
       "</g>\n",
       "<!-- 19 -->\n",
       "<g id=\"node20\" class=\"node\">\n",
       "<title>19</title>\n",
       "<path fill=\"#eeab7b\" stroke=\"black\" d=\"M1123.5,-187C1123.5,-187 1031.5,-187 1031.5,-187 1025.5,-187 1019.5,-181 1019.5,-175 1019.5,-175 1019.5,-116 1019.5,-116 1019.5,-110 1025.5,-104 1031.5,-104 1031.5,-104 1123.5,-104 1123.5,-104 1129.5,-104 1135.5,-110 1135.5,-116 1135.5,-116 1135.5,-175 1135.5,-175 1135.5,-181 1129.5,-187 1123.5,-187\"/>\n",
       "<text text-anchor=\"middle\" x=\"1077.5\" y=\"-171.8\" font-family=\"Helvetica,sans-Serif\" font-size=\"14.00\">Age &lt;= 23.5</text>\n",
       "<text text-anchor=\"middle\" x=\"1077.5\" y=\"-156.8\" font-family=\"Helvetica,sans-Serif\" font-size=\"14.00\">entropy = 0.811</text>\n",
       "<text text-anchor=\"middle\" x=\"1077.5\" y=\"-141.8\" font-family=\"Helvetica,sans-Serif\" font-size=\"14.00\">samples = 152</text>\n",
       "<text text-anchor=\"middle\" x=\"1077.5\" y=\"-126.8\" font-family=\"Helvetica,sans-Serif\" font-size=\"14.00\">value = [114, 38]</text>\n",
       "<text text-anchor=\"middle\" x=\"1077.5\" y=\"-111.8\" font-family=\"Helvetica,sans-Serif\" font-size=\"14.00\">class = t</text>\n",
       "</g>\n",
       "<!-- 18&#45;&gt;19 -->\n",
       "<g id=\"edge19\" class=\"edge\">\n",
       "<title>18&#45;&gt;19</title>\n",
       "<path fill=\"none\" stroke=\"black\" d=\"M1077.5,-222.91C1077.5,-214.65 1077.5,-205.86 1077.5,-197.3\"/>\n",
       "<polygon fill=\"black\" stroke=\"black\" points=\"1081,-197.02 1077.5,-187.02 1074,-197.02 1081,-197.02\"/>\n",
       "</g>\n",
       "<!-- 22 -->\n",
       "<g id=\"node23\" class=\"node\">\n",
       "<title>22</title>\n",
       "<path fill=\"#399de5\" stroke=\"black\" d=\"M1237.5,-179.5C1237.5,-179.5 1165.5,-179.5 1165.5,-179.5 1159.5,-179.5 1153.5,-173.5 1153.5,-167.5 1153.5,-167.5 1153.5,-123.5 1153.5,-123.5 1153.5,-117.5 1159.5,-111.5 1165.5,-111.5 1165.5,-111.5 1237.5,-111.5 1237.5,-111.5 1243.5,-111.5 1249.5,-117.5 1249.5,-123.5 1249.5,-123.5 1249.5,-167.5 1249.5,-167.5 1249.5,-173.5 1243.5,-179.5 1237.5,-179.5\"/>\n",
       "<text text-anchor=\"middle\" x=\"1201.5\" y=\"-164.3\" font-family=\"Helvetica,sans-Serif\" font-size=\"14.00\">entropy = 0.0</text>\n",
       "<text text-anchor=\"middle\" x=\"1201.5\" y=\"-149.3\" font-family=\"Helvetica,sans-Serif\" font-size=\"14.00\">samples = 2</text>\n",
       "<text text-anchor=\"middle\" x=\"1201.5\" y=\"-134.3\" font-family=\"Helvetica,sans-Serif\" font-size=\"14.00\">value = [0, 2]</text>\n",
       "<text text-anchor=\"middle\" x=\"1201.5\" y=\"-119.3\" font-family=\"Helvetica,sans-Serif\" font-size=\"14.00\">class = a</text>\n",
       "</g>\n",
       "<!-- 18&#45;&gt;22 -->\n",
       "<g id=\"edge22\" class=\"edge\">\n",
       "<title>18&#45;&gt;22</title>\n",
       "<path fill=\"none\" stroke=\"black\" d=\"M1120.52,-222.91C1132.92,-211.21 1146.43,-198.46 1158.81,-186.78\"/>\n",
       "<polygon fill=\"black\" stroke=\"black\" points=\"1161.48,-189.08 1166.35,-179.67 1156.67,-183.98 1161.48,-189.08\"/>\n",
       "</g>\n",
       "<!-- 20 -->\n",
       "<g id=\"node21\" class=\"node\">\n",
       "<title>20</title>\n",
       "<path fill=\"#e78b49\" stroke=\"black\" d=\"M1121,-68C1121,-68 1034,-68 1034,-68 1028,-68 1022,-62 1022,-56 1022,-56 1022,-12 1022,-12 1022,-6 1028,0 1034,0 1034,0 1121,0 1121,0 1127,0 1133,-6 1133,-12 1133,-12 1133,-56 1133,-56 1133,-62 1127,-68 1121,-68\"/>\n",
       "<text text-anchor=\"middle\" x=\"1077.5\" y=\"-52.8\" font-family=\"Helvetica,sans-Serif\" font-size=\"14.00\">entropy = 0.381</text>\n",
       "<text text-anchor=\"middle\" x=\"1077.5\" y=\"-37.8\" font-family=\"Helvetica,sans-Serif\" font-size=\"14.00\">samples = 27</text>\n",
       "<text text-anchor=\"middle\" x=\"1077.5\" y=\"-22.8\" font-family=\"Helvetica,sans-Serif\" font-size=\"14.00\">value = [25, 2]</text>\n",
       "<text text-anchor=\"middle\" x=\"1077.5\" y=\"-7.8\" font-family=\"Helvetica,sans-Serif\" font-size=\"14.00\">class = t</text>\n",
       "</g>\n",
       "<!-- 19&#45;&gt;20 -->\n",
       "<g id=\"edge20\" class=\"edge\">\n",
       "<title>19&#45;&gt;20</title>\n",
       "<path fill=\"none\" stroke=\"black\" d=\"M1077.5,-103.73C1077.5,-95.52 1077.5,-86.86 1077.5,-78.56\"/>\n",
       "<polygon fill=\"black\" stroke=\"black\" points=\"1081,-78.3 1077.5,-68.3 1074,-78.3 1081,-78.3\"/>\n",
       "</g>\n",
       "<!-- 21 -->\n",
       "<g id=\"node22\" class=\"node\">\n",
       "<title>21</title>\n",
       "<path fill=\"#f0b489\" stroke=\"black\" d=\"M1250,-68C1250,-68 1163,-68 1163,-68 1157,-68 1151,-62 1151,-56 1151,-56 1151,-12 1151,-12 1151,-6 1157,0 1163,0 1163,0 1250,0 1250,0 1256,0 1262,-6 1262,-12 1262,-12 1262,-56 1262,-56 1262,-62 1256,-68 1250,-68\"/>\n",
       "<text text-anchor=\"middle\" x=\"1206.5\" y=\"-52.8\" font-family=\"Helvetica,sans-Serif\" font-size=\"14.00\">entropy = 0.866</text>\n",
       "<text text-anchor=\"middle\" x=\"1206.5\" y=\"-37.8\" font-family=\"Helvetica,sans-Serif\" font-size=\"14.00\">samples = 125</text>\n",
       "<text text-anchor=\"middle\" x=\"1206.5\" y=\"-22.8\" font-family=\"Helvetica,sans-Serif\" font-size=\"14.00\">value = [89, 36]</text>\n",
       "<text text-anchor=\"middle\" x=\"1206.5\" y=\"-7.8\" font-family=\"Helvetica,sans-Serif\" font-size=\"14.00\">class = t</text>\n",
       "</g>\n",
       "<!-- 19&#45;&gt;21 -->\n",
       "<g id=\"edge21\" class=\"edge\">\n",
       "<title>19&#45;&gt;21</title>\n",
       "<path fill=\"none\" stroke=\"black\" d=\"M1125.53,-103.73C1136.6,-94.33 1148.36,-84.35 1159.39,-74.99\"/>\n",
       "<polygon fill=\"black\" stroke=\"black\" points=\"1161.91,-77.44 1167.27,-68.3 1157.38,-72.1 1161.91,-77.44\"/>\n",
       "</g>\n",
       "</g>\n",
       "</svg>\n"
      ],
      "text/plain": [
       "<graphviz.sources.Source at 0x1a79beb3e50>"
      ]
     },
     "execution_count": 20,
     "metadata": {},
     "output_type": "execute_result"
    }
   ],
   "source": [
    "import graphviz\n",
    "from sklearn.tree import export_graphviz\n",
    "\n",
    "\n",
    "dot_data = export_graphviz(rf_RandomGrid.best_estimator_[5], \n",
    "                           feature_names=feature_list,\n",
    "                           class_names=\"target\", \n",
    "                           filled=True, impurity=True, \n",
    "                           rounded=True)\n",
    "\n",
    "graph = graphviz.Source(dot_data, format='png')\n",
    "graph"
   ]
  },
  {
   "cell_type": "code",
   "execution_count": 21,
   "id": "a74c307b",
   "metadata": {},
   "outputs": [
    {
     "data": {
      "text/plain": [
       "array([[355,   0],\n",
       "       [ 68,   0]], dtype=int64)"
      ]
     },
     "execution_count": 21,
     "metadata": {},
     "output_type": "execute_result"
    }
   ],
   "source": [
    "from sklearn.metrics import confusion_matrix\n",
    "confusion_matrix(y_test, prediction)"
   ]
  },
  {
   "cell_type": "code",
   "execution_count": null,
   "id": "8169aa77",
   "metadata": {},
   "outputs": [],
   "source": []
  },
  {
   "cell_type": "code",
   "execution_count": null,
   "id": "2e0f2c0e",
   "metadata": {},
   "outputs": [],
   "source": []
  }
 ],
 "metadata": {
  "kernelspec": {
   "display_name": "Python 3 (ipykernel)",
   "language": "python",
   "name": "python3"
  },
  "language_info": {
   "codemirror_mode": {
    "name": "ipython",
    "version": 3
   },
   "file_extension": ".py",
   "mimetype": "text/x-python",
   "name": "python",
   "nbconvert_exporter": "python",
   "pygments_lexer": "ipython3",
   "version": "3.9.12"
  }
 },
 "nbformat": 4,
 "nbformat_minor": 5
}
