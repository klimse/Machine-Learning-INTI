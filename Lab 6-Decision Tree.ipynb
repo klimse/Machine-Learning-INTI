{
 "cells": [
  {
   "cell_type": "code",
   "execution_count": 18,
   "id": "a3cbff9e",
   "metadata": {},
   "outputs": [
    {
     "name": "stdout",
     "output_type": "stream",
     "text": [
      "    Age  Experience  Rank Nationality   Go\n",
      "0    36          10     9          UK   NO\n",
      "1    42          12     4         USA   NO\n",
      "2    23           4     6           N   NO\n",
      "3    52           4     4         USA   NO\n",
      "4    43          21     8         USA  YES\n",
      "5    44          14     5          UK   NO\n",
      "6    66           3     7           N  YES\n",
      "7    35          14     9          UK  YES\n",
      "8    52          13     7           N  YES\n",
      "9    35           5     9           N  YES\n",
      "10   24           3     5         USA   NO\n",
      "11   18           3     7          UK  YES\n",
      "12   45           9     9          UK  YES\n"
     ]
    }
   ],
   "source": [
    "import pandas #to display dataframe\n",
    "from sklearn import tree\n",
    "import pydotplus\n",
    "from sklearn.tree import DecisionTreeClassifier\n",
    "import matplotlib.pyplot as plt\n",
    "import matplotlib.image as pltimg\n",
    "import sklearn.metrics as metrics\n",
    "\n",
    "\n",
    "df = pandas.read_csv(\"X:\\Downloads\\PRG4206 Machine Learning\\shows.csv\")\n",
    "\n",
    "print(df)\n",
    "\n",
    "#go is the potential outcome"
   ]
  },
  {
   "cell_type": "code",
   "execution_count": 4,
   "id": "70cc4427",
   "metadata": {},
   "outputs": [
    {
     "name": "stdout",
     "output_type": "stream",
     "text": [
      "    Age  Experience  Rank  Nationality  Go\n",
      "0    36          10     9            0   0\n",
      "1    42          12     4            1   0\n",
      "2    23           4     6            2   0\n",
      "3    52           4     4            1   0\n",
      "4    43          21     8            1   1\n",
      "5    44          14     5            0   0\n",
      "6    66           3     7            2   1\n",
      "7    35          14     9            0   1\n",
      "8    52          13     7            2   1\n",
      "9    35           5     9            2   1\n",
      "10   24           3     5            1   0\n",
      "11   18           3     7            0   1\n",
      "12   45           9     9            0   1\n"
     ]
    }
   ],
   "source": [
    "d = {'UK': 0, 'USA':1, 'N': 2}\n",
    "df['Nationality'] = df['Nationality'].map(d)\n",
    "d = {'YES': 1, 'NO': 0}\n",
    "df['Go'] = df['Go'].map(d)\n",
    "\n",
    "print(df)"
   ]
  },
  {
   "cell_type": "code",
   "execution_count": 6,
   "id": "b79b2745",
   "metadata": {},
   "outputs": [
    {
     "name": "stdout",
     "output_type": "stream",
     "text": [
      "    Age  Experience  Rank  Nationality\n",
      "0    36          10     9            0\n",
      "1    42          12     4            1\n",
      "2    23           4     6            2\n",
      "3    52           4     4            1\n",
      "4    43          21     8            1\n",
      "5    44          14     5            0\n",
      "6    66           3     7            2\n",
      "7    35          14     9            0\n",
      "8    52          13     7            2\n",
      "9    35           5     9            2\n",
      "10   24           3     5            1\n",
      "11   18           3     7            0\n",
      "12   45           9     9            0\n",
      "0     0\n",
      "1     0\n",
      "2     0\n",
      "3     0\n",
      "4     1\n",
      "5     0\n",
      "6     1\n",
      "7     1\n",
      "8     1\n",
      "9     1\n",
      "10    0\n",
      "11    1\n",
      "12    1\n",
      "Name: Go, dtype: int64\n"
     ]
    }
   ],
   "source": [
    "features = ['Age', 'Experience', 'Rank', 'Nationality']\n",
    "\n",
    "X = df[features]\n",
    "y = df['Go']\n",
    "\n",
    "print(X)\n",
    "print(y)"
   ]
  },
  {
   "cell_type": "code",
   "execution_count": 7,
   "id": "9112ae2e",
   "metadata": {},
   "outputs": [
    {
     "name": "stdout",
     "output_type": "stream",
     "text": [
      "Collecting package metadata (current_repodata.json): ...working... done\n",
      "Solving environment: ...working... done\n",
      "\n",
      "## Package Plan ##\n",
      "\n",
      "  environment location: C:\\Users\\kathr\\anaconda3\n",
      "\n",
      "  added / updated specs:\n",
      "    - pydotplus\n",
      "\n",
      "\n",
      "The following packages will be downloaded:\n",
      "\n",
      "    package                    |            build\n",
      "    ---------------------------|-----------------\n",
      "    conda-22.9.0               |   py39hcbf5309_1         968 KB  conda-forge\n",
      "    pydotplus-2.0.2            |     pyhaef67bd_5          24 KB  conda-forge\n",
      "    python_abi-3.9             |           2_cp39           4 KB  conda-forge\n",
      "    ------------------------------------------------------------\n",
      "                                           Total:         997 KB\n",
      "\n",
      "The following NEW packages will be INSTALLED:\n",
      "\n",
      "  pydotplus          conda-forge/noarch::pydotplus-2.0.2-pyhaef67bd_5 None\n",
      "  python_abi         conda-forge/win-64::python_abi-3.9-2_cp39 None\n",
      "\n",
      "The following packages will be UPDATED:\n",
      "\n",
      "  conda              pkgs/main::conda-22.9.0-py39haa95532_0 --> conda-forge::conda-22.9.0-py39hcbf5309_1 None\n",
      "\n",
      "\n",
      "\n",
      "Downloading and Extracting Packages\n",
      "\n",
      "conda-22.9.0         | 968 KB    |            |   0% \n",
      "conda-22.9.0         | 968 KB    | 1          |   2% \n",
      "conda-22.9.0         | 968 KB    | #######1   |  71% \n",
      "conda-22.9.0         | 968 KB    | ########## | 100% \n",
      "\n",
      "pydotplus-2.0.2      | 24 KB     |            |   0% \n",
      "pydotplus-2.0.2      | 24 KB     | ########## | 100% \n",
      "pydotplus-2.0.2      | 24 KB     | ########## | 100% \n",
      "\n",
      "python_abi-3.9       | 4 KB      |            |   0% \n",
      "python_abi-3.9       | 4 KB      | ########## | 100% \n",
      "Preparing transaction: ...working... done\n",
      "Verifying transaction: ...working... done\n",
      "Executing transaction: ...working... done\n",
      "Retrieving notices: ...working... done\n",
      "\n",
      "Note: you may need to restart the kernel to use updated packages.\n"
     ]
    }
   ],
   "source": [
    "conda install -c conda-forge pydotplus"
   ]
  },
  {
   "cell_type": "code",
   "execution_count": 9,
   "id": "42f3d2cb",
   "metadata": {},
   "outputs": [
    {
     "data": {
      "image/png": "[encoded data removed]",
      "text/plain": [
       "<Figure size 432x288 with 1 Axes>"
      ]
     },
     "metadata": {
      "needs_background": "light"
     },
     "output_type": "display_data"
    }
   ],
   "source": [
    "import os\n",
    "os.environ['PATH'] = os.environ['PATH']+';'+os.environ['CONDA_PREFIX']+r\"\\Library\\bin\\graphviz\"\n",
    "\n",
    "dtree = DecisionTreeClassifier()\n",
    "dtree = dtree.fit(X,y)\n",
    "data = tree.export_graphviz(dtree, out_file=None, feature_names=features)\n",
    "graph = pydotplus.graph_from_dot_data(data)\n",
    "graph.write_png('mydecisiontree.png')\n",
    "\n",
    "img=pltimg.imread('mydecisiontree.png')\n",
    "imgplot = plt.imshow(img)\n",
    "plt.show()"
   ]
  },
  {
   "cell_type": "code",
   "execution_count": 10,
   "id": "53faf039",
   "metadata": {},
   "outputs": [
    {
     "name": "stdout",
     "output_type": "stream",
     "text": [
      "[1 0 0]\n",
      "--> [1] means 'GO'\n",
      "--> [0] means 'NO'\n"
     ]
    },
    {
     "name": "stderr",
     "output_type": "stream",
     "text": [
      "C:\\Users\\kathr\\anaconda3\\lib\\site-packages\\sklearn\\base.py:450: UserWarning: X does not have valid feature names, but DecisionTreeClassifier was fitted with feature names\n",
      "  warnings.warn(\n"
     ]
    }
   ],
   "source": [
    "print(dtree.predict([[40,10,7,1],[30,3,5,2],[38,9,3,1]]))\n",
    "print(\"--> [1] means 'GO'\")\n",
    "print(\"--> [0] means 'NO'\")"
   ]
  },
  {
   "cell_type": "code",
   "execution_count": 15,
   "id": "8b99c2c5",
   "metadata": {},
   "outputs": [
    {
     "name": "stdout",
     "output_type": "stream",
     "text": [
      "Confusion Matrix: \n",
      " [[3 0]\n",
      " [0 1]]\n",
      "\n",
      "\n",
      "Report :                precision    recall  f1-score   support\n",
      "\n",
      "           0       1.00      1.00      1.00         3\n",
      "           1       1.00      1.00      1.00         1\n",
      "\n",
      "    accuracy                           1.00         4\n",
      "   macro avg       1.00      1.00      1.00         4\n",
      "weighted avg       1.00      1.00      1.00         4\n",
      "\n",
      "\n",
      "\n",
      "Accuracy: 1.0\n"
     ]
    }
   ],
   "source": [
    "from sklearn.model_selection import train_test_split\n",
    "\n",
    "X_train, X_test, y_train, y_test = train_test_split(X, y, test_size=0.3, random_state=1)\n",
    "clf = DecisionTreeClassifier()\n",
    "\n",
    "clf=clf.fit(X_train,y_train)\n",
    "\n",
    "y_pred = clf.predict(X_test)\n",
    "\n",
    "from sklearn.metrics import confusion_matrix\n",
    "import sklearn.metrics as metrics\n",
    "\n",
    "print(\"Confusion Matrix: \\n\", confusion_matrix(y_test, y_pred))\n",
    "\n",
    "from sklearn.metrics import classification_report\n",
    "print(\"\\n\\nReport : \",classification_report(y_test, y_pred))\n",
    "\n",
    "print(\"\\n\\nAccuracy:\", metrics.accuracy_score(y_test, y_pred))"
   ]
  },
  {
   "cell_type": "code",
   "execution_count": 19,
   "id": "c44bfbc3",
   "metadata": {},
   "outputs": [
    {
     "name": "stdout",
     "output_type": "stream",
     "text": [
      "Confusion Matrix: \n",
      " [[3 0]\n",
      " [0 1]]\n",
      "\n",
      "\n",
      "Report :                precision    recall  f1-score   support\n",
      "\n",
      "           0       1.00      1.00      1.00         3\n",
      "           1       1.00      1.00      1.00         1\n",
      "\n",
      "    accuracy                           1.00         4\n",
      "   macro avg       1.00      1.00      1.00         4\n",
      "weighted avg       1.00      1.00      1.00         4\n",
      "\n",
      "\n",
      "\n",
      "Accuracy: 1.0\n"
     ]
    }
   ],
   "source": [
    "#optimizing decision tree\n",
    "#Create Decision Tree classifier object, information gain = entropy\n",
    "clf=DecisionTreeClassifier(criterion=\"entropy\", max_depth=3)\n",
    "\n",
    "#train decision tree classifier\n",
    "clf=clf.fit(X_train,y_train)\n",
    "\n",
    "#predict the response for test dataset\n",
    "y_pred = clf.predict(X_test)\n",
    "\n",
    "\n",
    "from sklearn.metrics import confusion_matrix\n",
    "\n",
    "\n",
    "print(\"Confusion Matrix: \\n\", confusion_matrix(y_test, y_pred))\n",
    "\n",
    "from sklearn.metrics import classification_report\n",
    "print(\"\\n\\nReport : \",classification_report(y_test, y_pred))\n",
    "\n",
    "print(\"\\n\\nAccuracy:\", metrics.accuracy_score(y_test, y_pred))"
   ]
  },
  {
   "cell_type": "code",
   "execution_count": 17,
   "id": "bd8c9690",
   "metadata": {},
   "outputs": [
    {
     "name": "stdout",
     "output_type": "stream",
     "text": [
      "Confustion Matrix: \n",
      " [[3 0]\n",
      " [0 1]]\n",
      "\n",
      "\n",
      "Report :                precision    recall  f1-score   support\n",
      "\n",
      "           0       1.00      1.00      1.00         3\n",
      "           1       1.00      1.00      1.00         1\n",
      "\n",
      "    accuracy                           1.00         4\n",
      "   macro avg       1.00      1.00      1.00         4\n",
      "weighted avg       1.00      1.00      1.00         4\n",
      "\n",
      "\n",
      "\n",
      "Accuracy: 1.0\n"
     ]
    }
   ],
   "source": [
    "clf_gini = DecisionTreeClassifier(criterion = \"gini\",random_state = 100,max_depth =3, min_samples_leaf=5)\n",
    "\n",
    "clf = clf.fit(X_train, y_train)\n",
    "\n",
    "y_pred = clf.predict(X_test)\n",
    "\n",
    "print(\"Confustion Matrix: \\n\", confusion_matrix(y_test, y_pred))\n",
    "\n",
    "print(\"\\n\\nReport : \",classification_report(y_test, y_pred))\n",
    "\n",
    "print(\"\\n\\nAccuracy:\", metrics.accuracy_score(y_test, y_pred))"
   ]
  },
  {
   "cell_type": "code",
   "execution_count": null,
   "id": "a532fdda",
   "metadata": {},
   "outputs": [],
   "source": []
  }
 ],
 "metadata": {
  "kernelspec": {
   "display_name": "Python 3 (ipykernel)",
   "language": "python",
   "name": "python3"
  },
  "language_info": {
   "codemirror_mode": {
    "name": "ipython",
    "version": 3
   },
   "file_extension": ".py",
   "mimetype": "text/x-python",
   "name": "python",
   "nbconvert_exporter": "python",
   "pygments_lexer": "ipython3",
   "version": "3.9.12"
  }
 },
 "nbformat": 4,
 "nbformat_minor": 5
}
